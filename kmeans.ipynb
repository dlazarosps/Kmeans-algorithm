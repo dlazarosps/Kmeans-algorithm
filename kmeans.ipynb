{
  "nbformat": 4,
  "nbformat_minor": 0,
  "metadata": {
    "colab": {
      "name": "kmeans.ipynb",
      "provenance": [],
      "collapsed_sections": []
    },
    "kernelspec": {
      "name": "python3",
      "display_name": "Python 3",
      "language": "python"
    }
  },
  "cells": [
    {
      "source": [
        "# K-Means\n",
        "\n",
        "## Trabalho 2 - INF01017 - 2020/2\n"
      ],
      "cell_type": "markdown",
      "metadata": {}
    },
    {
      "source": [
        "### Importar bibliotecas\n",
        "\n",
        "na célula abaixo são feitos os imports das bibliotecas utilizadas na implementação"
      ],
      "cell_type": "markdown",
      "metadata": {}
    },
    {
      "cell_type": "code",
      "metadata": {
        "id": "xeydPYk8yFU8"
      },
      "source": [
        "# Imports\n",
        "\n",
        "import math\n",
        "import numpy as np\n",
        "import pandas as pd\n",
        "import random\n",
        "\n",
        "from matplotlib import pyplot as plt\n",
        "\n",
        "import plotly.express as px\n",
        "from sklearn.decomposition import PCA\n",
        "\n",
        "path = \"\""
      ],
      "execution_count": null,
      "outputs": []
    },
    {
      "source": [
        "#### Opcional\n",
        "\n",
        "caso esteja sendo executado via Colab é possivel executar a celula abaixo para fazer a integração com o google drive e utilizar os datasets conforme o *path* do drive"
      ],
      "cell_type": "markdown",
      "metadata": {}
    },
    {
      "cell_type": "code",
      "metadata": {
        "id": "ufztV7vcMMsT",
        "colab": {
          "base_uri": "https://localhost:8080/"
        },
        "outputId": "9bed10fc-8058-4ff3-9b5b-37c3bf129097"
      },
      "source": [
        "load datasets from drive\n",
        "\n",
        "from google.colab import drive\n",
        "drive.mount('/content/drive')\n",
        "\n",
        "path = \"/content/drive/MyDrive/Colab Notebooks/\" "
      ],
      "execution_count": null,
      "outputs": []
    },
    {
      "source": [
        "### função distancia"
      ],
      "cell_type": "markdown",
      "metadata": {}
    },
    {
      "cell_type": "code",
      "metadata": {
        "id": "-dTr2nIE1YZ5"
      },
      "source": [
        "# distance method\n",
        "\n",
        "def distance(instance, centroid, mode:str = 'euc') -> float:\n",
        "  \"\"\"\n",
        "    Parameters\n",
        "    ----------\n",
        "      instance\n",
        "      centroid\n",
        "\n",
        "      mode = {\n",
        "        'ave': Average,\n",
        "        'euc': Euclidean,\n",
        "        'man': Manhattan\n",
        "      }\n",
        "    \n",
        "    Return\n",
        "    ----------\n",
        "    float\n",
        "      value of distance between p and q\n",
        "  \"\"\"\n",
        "  # init variables\n",
        "  soma = 0\n",
        "  n = 1\n",
        "  diff = 0\n",
        "  ret = 0\n",
        "\n",
        "  # \"\"\"\n",
        "  # forech \n",
        "  for index in range(len(instance)):\n",
        "    for col in instance:\n",
        "      # print(\"{} \\t\\t\\t {} \".format(index, col))\n",
        "      instance_val = instance.iloc[index][col]\n",
        "      centroid_val = centroid.get(col, None)\n",
        "      # print(\"{} \\t\\t\\t {} \\t\\t\\t {} \\t\\t\\t {} \\t\\t\\t {}\".format(index, col, instance_val, centroid_val, type(instance_val)))\n",
        "\n",
        "      if col != 'name' and (type(instance_val) != str): \n",
        "        \n",
        "        diff = float(instance_val) - float(centroid_val)\n",
        "        if mode == 'man':\n",
        "          soma += abs(diff)\n",
        "        else:\n",
        "          soma += pow(diff, 2)\n",
        "    \n",
        "  if mode == 'man':\n",
        "    ret = soma\n",
        "  else:\n",
        "    if mode == 'ave':\n",
        "      n = 1 / len(instance)\n",
        "    ret = math.sqrt(n * soma)\n",
        "  # \"\"\" \n",
        "  return ret\n"
      ],
      "execution_count": null,
      "outputs": []
    },
    {
      "source": [
        "### função inicialização aleatória de centroids\n"
      ],
      "cell_type": "markdown",
      "metadata": {}
    },
    {
      "cell_type": "code",
      "metadata": {
        "id": "qpBD25HRTjgw"
      },
      "source": [
        "# init random centroids method\n",
        "\n",
        "def init_centroids(instances, k_param:int) -> list:\n",
        "  \"\"\"\n",
        "    Parameters\n",
        "    ----------\n",
        "      instances = list of instances\n",
        "      k_param = number of centroids\n",
        "    \n",
        "    Return\n",
        "    ----------\n",
        "    list\n",
        "      k centroids\n",
        "  \"\"\" \n",
        "\n",
        "  centroids = []\n",
        "\n",
        "  # each K\n",
        "  for i in range(k_param):\n",
        "    center = {}\n",
        "    center['centroid'] =str(i)\n",
        "\n",
        "    # foreach column in instances\n",
        "    for col in instances:\n",
        "      min = instances[col].min()\n",
        "      max = instances[col].max()\n",
        "      \n",
        "      # if column is numeric\n",
        "      if type(min) != str:\n",
        "        # create ramdom column value\n",
        "        center[col] = random.uniform(min, max)\n",
        "    \n",
        "    # append i centrid in list\n",
        "    centroids.append(center)\n",
        "  \n",
        "  return centroids\n"
      ],
      "execution_count": null,
      "outputs": []
    },
    {
      "source": [
        "### função calcula a distancia minima entre centroids e uma instancia"
      ],
      "cell_type": "markdown",
      "metadata": {}
    },
    {
      "cell_type": "code",
      "metadata": {
        "id": "x6Hb1aHumqPq"
      },
      "source": [
        "# argmin distance centroid method\n",
        "\n",
        "def min_centroid(instance, centroids:list, dist_mode:str) -> int:\n",
        "  dist = []\n",
        "\n",
        "  for center in centroids:\n",
        "    val = distance(instance, center, dist_mode)\n",
        "    dist.append(val)\n",
        "    # print(val)\n",
        "\n",
        "  return np.argmin(dist)\n"
      ],
      "execution_count": null,
      "outputs": []
    },
    {
      "source": [
        "### função para checar se foi atualizado algum atribudo do centroi"
      ],
      "cell_type": "markdown",
      "metadata": {}
    },
    {
      "cell_type": "code",
      "metadata": {
        "id": "-6vLRFHJcDqt"
      },
      "source": [
        "# check diff between two list of dicts\n",
        "\n",
        "def is_updated(old_list, new_list):\n",
        "  # foreach dict in old_list\n",
        "  for d in old_list:\n",
        "    # if dict not in new_list\n",
        "    if d not in new_list:\n",
        "      # return positive and new_list\n",
        "      return True, new_list\n",
        "\n",
        "  # return negative and old_list\n",
        "  return False, old_list\n",
        "  "
      ],
      "execution_count": null,
      "outputs": []
    },
    {
      "source": [
        "### função para atualizar atributos do centroid\n",
        "\n",
        "utiliza a o valor médio da amostra do dataframe"
      ],
      "cell_type": "markdown",
      "metadata": {}
    },
    {
      "source": [
        "# update centroid values method\n",
        "\n",
        "def update_centroid(centroid, instances):\n",
        "  centroid_instances = instances.loc[instances['centroid'] == centroid['centroid']]\n",
        "\n",
        "  # print(centroid_instances.describe())\n",
        "  # print_line()\n",
        "\n",
        "  for col in centroid_instances:\n",
        "    if col not in ['centroid']:\n",
        "      mean = centroid_instances[col].mean()\n",
        "      if type(mean) != str:\n",
        "        centroid[col] = mean\n",
        "\n",
        "  return centroid\n"
      ],
      "cell_type": "code",
      "metadata": {
        "id": "LzHSUdxKdxwW"
      },
      "execution_count": null,
      "outputs": []
    },
    {
      "source": [
        "### função principal do K-means\n",
        "\n",
        "utiliza todas as funções das células anteriores"
      ],
      "cell_type": "markdown",
      "metadata": {}
    },
    {
      "cell_type": "code",
      "metadata": {
        "id": "OTt0w5IQCLLE"
      },
      "source": [
        "# k means method\n",
        "\n",
        "def k_means(instances, k_param:int, dist_mode:str, loop_limit=1000, centroids=False) -> list:\n",
        "  \"\"\"\n",
        "    Parameters\n",
        "    ----------\n",
        "      instances = list of instances\n",
        "      k_param = number of partitions\n",
        "      dist_mode = distance measure\n",
        "    \n",
        "    Return\n",
        "    ----------\n",
        "    list\n",
        "      k centroids results\n",
        "  \"\"\"\n",
        "\n",
        "  had_update = True\n",
        "  count = 0\n",
        "  \n",
        "  if centroids == False:\n",
        "    centroids = init_centroids(instances, k_param)\n",
        "\n",
        "  # print(instances)\n",
        "  # print_line()\n",
        "  # print(centroids)\n",
        "  # print_line()\n",
        "\n",
        "  # plot_dataset(pd.DataFrame(centroids), x='Murder', y='Assault', title='initial centroids')\n",
        "\n",
        "  while had_update and count < loop_limit:\n",
        "    for i in range(len(instances)):\n",
        "      center_index = min_centroid(instances.iloc[[i]], centroids, dist_mode)\n",
        "      # instances.iloc[i]['centroid'] = str(center_index)\n",
        "      instances.at[i, 'centroid'] = str(center_index)\n",
        "\n",
        "    # updated_centroids = centroids\n",
        "    updated_centroids = []\n",
        "    for center in centroids:\n",
        "      new_center = update_centroid(center, instances)\n",
        "      updated_centroids.append(new_center)\n",
        "    \n",
        "    had_update, centroids = is_updated(centroids, updated_centroids)\n",
        "    count += 1\n",
        "\n",
        "  # print_line()\n",
        "  # print(instances)\n",
        "  # print_line()\n",
        "  # print(centroids)\n",
        "  # print_line()\n",
        "\n",
        "  if count > 1:\n",
        "    print('loops {}'.format(count))\n",
        "    print_line()\n",
        "\n",
        "  return centroids\n"
      ],
      "execution_count": null,
      "outputs": []
    },
    {
      "source": [
        "### função que calcula dissimilaridade"
      ],
      "cell_type": "markdown",
      "metadata": {}
    },
    {
      "cell_type": "code",
      "metadata": {
        "id": "QZtFbp88slNd"
      },
      "source": [
        "def dissimilarity(instances, k_param:int, dist_mode:str, loop_limit=1000):\n",
        "    executions = []\n",
        "    for i in range(100):\n",
        "        print('init {}'.format(i))\n",
        "        execution_centroids = k_means(instances, k_param, dist_mode, loop_limit)\n",
        "        dissimilaridade = 0 \n",
        "        for k in range(k_param):\n",
        "            dis = distance(instances.loc[instances['centroid']==str(k)], execution_centroids[k], dist_mode)\n",
        "            dis = pow(dis, 2)\n",
        "            dissimilaridade = dissimilaridade + dis\n",
        "        \n",
        "        executions.append({\"centroids\":execution_centroids, \"dissimilarity\":dissimilaridade})\n",
        "    \n",
        "    # print(executions)\n",
        "    #select min dissimilarity\n",
        "    optimal = min(executions, key=lambda x:x['dissimilarity']) #compares second element of each tuple\n",
        "    return optimal\n",
        "    \n",
        "        "
      ],
      "execution_count": null,
      "outputs": []
    },
    {
      "source": [
        "### função auxiliar para plotagem de dataframes"
      ],
      "cell_type": "markdown",
      "metadata": {}
    },
    {
      "cell_type": "code",
      "metadata": {
        "id": "DeEUHV3rvxkf"
      },
      "source": [
        "# plot dataframe 2D\n",
        "\n",
        "def plot_dataset(df, x, y, color='black', title=''):\n",
        "  df.plot(kind='scatter',x=x,y=y,color=color, grid=True, title=title)\n",
        "  plt.show()\n",
        "\n",
        "\n",
        "def print_line():\n",
        "  print('\\n' + '-'*30 + '\\n')  "
      ],
      "execution_count": null,
      "outputs": []
    },
    {
      "source": [
        "### função para plotar curva elbow\n",
        "\n",
        "também acumula os valores dos melhores centroids para cada K"
      ],
      "cell_type": "markdown",
      "metadata": {}
    },
    {
      "cell_type": "code",
      "metadata": {
        "id": "uzrL2AcpslNf"
      },
      "source": [
        "def elbow_method(instances, dist_mode:str, loop_limit=1000):\n",
        "    k_execution = []\n",
        "    for k in range(1, 11):\n",
        "        print('K = {}'.format(k))\n",
        "        optimal = dissimilarity(instances, k, dist_mode, loop_limit)\n",
        "        k_execution.append({\"k\":k, \"dissimilarity\":optimal[\"dissimilarity\"], \"centroids\":optimal[\"centroids\"]})\n",
        "        print_line()\n",
        "\n",
        "    df = pd.DataFrame(k_execution)\n",
        "    plot_dataset(df,x='k',y='dissimilarity')\n",
        "    return k_execution"
      ],
      "execution_count": null,
      "outputs": []
    },
    {
      "source": [
        "### celula responsavel por ler dataset\n",
        "\n",
        "precisa da execução de todas as celulas anteriores\n",
        "\n",
        "#### parametrizações\n",
        "- path do dataset 1\n",
        "- path do dataset 2 (é possivel utilizar apenas um dataset comentando as linhas 5 e 7)\n",
        "- features selecionadas\n",
        "    - feature X\n",
        "    - feature Y\n"
      ],
      "cell_type": "markdown",
      "metadata": {}
    },
    {
      "cell_type": "code",
      "metadata": {
        "id": "YU2AKP8esznJ",
        "colab": {
          "base_uri": "https://localhost:8080/"
        },
        "outputId": "d087c8a0-cf6d-4b23-b9f3-744af0bfa8ba"
      },
      "source": [
        "# read dataset\n",
        "\n",
        "dataset = pd.read_csv(path+\"dataset/Personality_Vars.txt\", sep=\"\\t\", header=0)\n",
        "\n",
        "dataset2 = pd.read_csv(path+\"dataset/SpendingHabits_Vars.txt\", sep=\"\\t\", header=0)\n",
        "\n",
        "dataset =  pd.concat([dataset, dataset2], axis=1)\n",
        "\n",
        "dataset.insert(0,'centroid', 'empty')\n",
        "\n",
        "feature_x = 'Workaholism'\n",
        "feature_y = 'Finances'\n",
        "\n",
        "sample = dataset[['centroid', \n",
        "    feature_x,\n",
        "    feature_y  \n",
        "]]\n",
        "\n",
        "sample = sample.sample(n=len(sample))\n",
        "sample = sample.reset_index(drop=True)\n",
        "\n",
        "# print(sample)"
      ],
      "execution_count": null,
      "outputs": []
    },
    {
      "source": [
        "### célula responsavel por plotar a curva elbow do dataset\n",
        "\n",
        "com base no gráfico é escolhido o valor de K"
      ],
      "cell_type": "markdown",
      "metadata": {}
    },
    {
      "cell_type": "code",
      "metadata": {
        "tags": [],
        "id": "_dOwcgi7slNg",
        "colab": {
          "base_uri": "https://localhost:8080/",
          "height": 1000
        },
        "outputId": "df22176d-11fc-4bf6-f2d2-6acd600b9338"
      },
      "source": [
        "#dissimilaridade\n",
        "\n",
        "execution_centroids = elbow_method(sample,'euc', 1000)\n"
      ],
      "execution_count": null,
      "outputs": []
    },
    {
      "source": [
        "### seleciona melhor conjunto de centroids\n",
        "\n",
        "- parametro K responsável pelo numero de clusters"
      ],
      "cell_type": "markdown",
      "metadata": {}
    },
    {
      "cell_type": "code",
      "metadata": {
        "id": "4QwuejMrpCjh"
      },
      "source": [
        "# !not automated!\n",
        "#After visual analyses of elbows' plot -> choose a k for the k_means -> below: select the best centroids returned from the elbow to that K\n",
        "k_param = 4\n",
        "\n",
        "execution_k = list(filter(lambda x:x[\"k\"] == k_param, execution_centroids ))\n",
        "best_init_centroids = execution_k[0]['centroids']\n",
        "print(best_init_centroids)"
      ],
      "execution_count": null,
      "outputs": []
    },
    {
      "source": [
        "### celula responsavel pela execução e plot do K-means\n",
        "\n",
        "precisa da execução de todas as celulas anteriores\n"
      ],
      "cell_type": "markdown",
      "metadata": {}
    },
    {
      "cell_type": "code",
      "metadata": {
        "id": "Jvo327FzslNh",
        "colab": {
          "base_uri": "https://localhost:8080/",
          "height": 295
        },
        "outputId": "19c5339c-58a5-48e4-bb38-8ab5dc0d186f"
      },
      "source": [
        "#main\n",
        "\n",
        "centroids = k_means(sample, k_param, \"euc\", 1000, best_init_centroids)\n",
        "\n",
        "# centroids = best_init_centroids\n",
        "\n",
        "# plot k-means\n",
        "dfn = pd.DataFrame(centroids)\n",
        "dfn = dfn.append(sample, ignore_index=True)\n",
        "\n",
        "colors = ['black'] * k_param\n",
        "\n",
        "for i in range(len(sample)):\n",
        "  c = sample.iloc[i]['centroid']\n",
        "  colors.append('C'+c)\n",
        "\n",
        "\n",
        "plot_dataset(dfn, x=feature_x, y=feature_y, color=colors, title='Results K-means')\n"
      ],
      "execution_count": null,
      "outputs": []
    },
    {
      "source": [
        "#### celula de teste PCA (descontinuado)"
      ],
      "cell_type": "markdown",
      "metadata": {}
    },
    {
      "cell_type": "code",
      "metadata": {
        "id": "ixGQXvwMAUf8",
        "colab": {
          "base_uri": "https://localhost:8080/",
          "height": 542
        },
        "outputId": "cc280a76-275a-4c42-8932-4fed15715f66"
      },
      "source": [
        "# Test PCA 2D\n",
        "\n",
        "# df = pd.read_csv(path+\"dataset/MusicAndMovies_Vars.txt\", sep=\"\\t\", header=0)\n",
        "# df.insert(0,'centroid', 'empty')\n",
        "\n",
        "# sample = df[['centroid', \"Pop\",\t\"Rock\", \"Romantic\"]]\n",
        "# sample = sample.sample(n=len(sample))\n",
        "# sample = sample.reset_index(drop=True)\n",
        "\n",
        "# elbow_method(sample,'euc', 1000)\n",
        "\n",
        "k_param = 4\n",
        "centroids = k_means(sample, k_param, \"euc\", 1000, best_init_centroids)\n",
        "\n",
        "centroids = best_init_centroids\n",
        "\n",
        "X = sample[[ \n",
        "     'Music', \n",
        "    # 'Metal.or.Hardrock', 'Reggae..Ska', 'Techno..Trance',\n",
        "    'Movies', \n",
        "    # 'Horror', 'Comedy', 'Sci.fi',\n",
        "    'Politics', \n",
        "    # 'Mathematics', \n",
        "    # 'Shopping', 'Science.and.technology'\n",
        "]]\n",
        "\n",
        "pca = PCA(n_components=2)\n",
        "components = pca.fit_transform(X)\n",
        "\n",
        "fig = px.scatter(components, x=0, y=1, color=sample['centroid'])\n",
        "fig.show()\n"
      ],
      "execution_count": null,
      "outputs": []
    },
    {
      "source": [
        "#### teste PCA 3D (descontinuado)"
      ],
      "cell_type": "markdown",
      "metadata": {}
    },
    {
      "cell_type": "code",
      "metadata": {
        "colab": {
          "base_uri": "https://localhost:8080/",
          "height": 542
        },
        "id": "_Ix9DowBLxkL",
        "outputId": "814cc32f-350a-4944-869c-33f6ea31b133"
      },
      "source": [
        "# Test PCA 3D\n",
        "\n",
        "pca = PCA(n_components=3)\n",
        "components = pca.fit_transform(X)\n",
        "\n",
        "total_var = pca.explained_variance_ratio_.sum() * 100\n",
        "\n",
        "fig = px.scatter_3d(\n",
        "    components, x=0, y=1, z=2,  color=sample['centroid'],\n",
        "    title=f'Total Explained Variance: {total_var:.2f}%',\n",
        "    labels={'0': 'PC 1', '1': 'PC 2', '2': 'PC 3'}\n",
        ")\n",
        "fig.show()"
      ],
      "execution_count": null,
      "outputs": []
    },
    {
      "source": [
        "#### teste  leitura dataset USA arrest"
      ],
      "cell_type": "markdown",
      "metadata": {}
    },
    {
      "cell_type": "code",
      "metadata": {
        "id": "VPhwmpYgMn59"
      },
      "source": [
        "# read dataset\n",
        "\n",
        "dataset = pd.read_csv(path+'dataset/USArrests.csv', header=0)\n",
        "\n",
        "df = dataset\n",
        "df.rename(columns={'Unnamed: 0':'name'}, inplace=True)\n",
        "\n",
        "df = df[['name', 'Assault', 'Murder']]\n",
        "\n",
        "# infos\n",
        "print(\"Dataset Infos\")\n",
        "print(df.describe())\n",
        "print_line()\n",
        "\n",
        "# plot dataset\n",
        "plot_dataset(df, x='Murder', y='Assault', color='black', title='Dataset')\n",
        "\n",
        "\n",
        "# add column\n",
        "df.insert(0,'centroid', 'empty')\n",
        "\n",
        "# first dataset rows\n",
        "print(df[:5])\n",
        "print_line()"
      ],
      "execution_count": null,
      "outputs": []
    },
    {
      "source": [
        "#### teste plot dataset USA arrest"
      ],
      "cell_type": "markdown",
      "metadata": {}
    },
    {
      "cell_type": "code",
      "metadata": {
        "id": "auKoA_fDE-Q4"
      },
      "source": [
        "# TESTs\n",
        "k_param = 6\n",
        "\n",
        "# \"\"\"\n",
        "# Test distance\n",
        "xi = pd.DataFrame([{'x': 0.50, 'y': 0.43}])\n",
        "xj = {'x': 1.00, 'y': 0.57}\n",
        "\n",
        "print(\"Test distance method:\")\n",
        "for mode in ['euc', 'ave', 'man']:\n",
        "  print(\"dist {} = {}\".format(mode, distance(xi, xj, mode)))\n",
        "print_line()\n",
        "\n",
        "# Test init centroids\n",
        "print(\"Test random init centroids method:\")\n",
        "centroids = init_centroids(df, k_param);\n",
        "print(centroids)\n",
        "print_line()\n",
        "\n",
        "# Test min center\n",
        "print(\"Test min centroid:\")\n",
        "sample = df.sample(n=1)\n",
        "dfn = sample\n",
        "# plot_dataset(dfn, x='Murder', y='Assault', color='red')\n",
        "\n",
        "dfn = dfn.append(pd.DataFrame(centroids), ignore_index=True)\n",
        "\n",
        "\n",
        "print(dfn)\n",
        "print_line()\n",
        "\n",
        "min = min_centroid(sample, centroids, 'euc')\n",
        "print(min)\n",
        "\n",
        "\n",
        "# plot color min center\n",
        "colors = ['r']\n",
        "\n",
        "for i in range(len(centroids)):\n",
        "  if i == min:\n",
        "    c = 'g'\n",
        "  else:\n",
        "    c = 'b'\n",
        "  colors.append(c)\n",
        "\n",
        "plot_dataset(dfn, x='Murder', y='Assault', color=colors, title='Example Centroids')\n",
        "print_line()\n",
        "\n",
        "# \"\"\""
      ],
      "execution_count": null,
      "outputs": []
    },
    {
      "source": [
        "#### teste plot dataset USA arrest"
      ],
      "cell_type": "markdown",
      "metadata": {}
    },
    {
      "cell_type": "code",
      "metadata": {
        "id": "NF3XQjqSJqM9"
      },
      "source": [
        "# Test kmeans\n",
        "k_param = 3\n",
        "sample = df.sample(n=len(df))\n",
        "sample = sample.reset_index(drop=True)\n",
        "centroids = k_means(sample, k_param, 'euc', 1000)\n",
        "\n",
        "print(\"best centroids:\")\n",
        "print(centroids)\n",
        "print_line()\n",
        "\n",
        "# plot k-means\n",
        "dfn = pd.DataFrame(centroids)\n",
        "dfn = dfn.append(sample, ignore_index=True)\n",
        "\n",
        "colors = ['black'] * k_param\n",
        "\n",
        "for i in range(len(sample)):\n",
        "  c = sample.iloc[i]['centroid']\n",
        "  colors.append('C'+c)\n",
        "\n",
        "plot_dataset(dfn, x='Murder', y='Assault', color=colors, title='Results K-means')\n",
        "print_line()\n"
      ],
      "execution_count": null,
      "outputs": []
    }
  ]
}