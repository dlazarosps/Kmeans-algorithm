{
  "nbformat": 4,
  "nbformat_minor": 0,
  "metadata": {
    "colab": {
      "name": "kmeans.ipynb",
      "provenance": [],
      "collapsed_sections": []
    },
    "kernelspec": {
      "name": "python3",
      "display_name": "Python 3"
    },
    "language_info": {
      "name": "python"
    }
  },
  "cells": [
    {
      "cell_type": "code",
      "metadata": {
        "id": "xeydPYk8yFU8"
      },
      "source": [
        "# Imports\n",
        "\n",
        "import math\n",
        "import numpy as np\n",
        "import pandas as pd\n",
        "import random\n"
      ],
      "execution_count": 1,
      "outputs": []
    },
    {
      "cell_type": "code",
      "metadata": {
        "colab": {
          "base_uri": "https://localhost:8080/"
        },
        "id": "ufztV7vcMMsT",
        "outputId": "d4bad036-0f53-4a84-a062-387345f3f765"
      },
      "source": [
        "# load datasets from drive\n",
        "\n",
        "from google.colab import drive\n",
        "drive.mount('/content/drive')\n"
      ],
      "execution_count": 2,
      "outputs": [
        {
          "output_type": "stream",
          "text": [
            "Mounted at /content/drive\n"
          ],
          "name": "stdout"
        }
      ]
    },
    {
      "cell_type": "code",
      "metadata": {
        "id": "WIOa1BwfPtQG"
      },
      "source": [
        "# Sklearn imports\n",
        "\n",
        "from sklearn.datasets import make_blobs\n",
        "from matplotlib import pyplot as plt"
      ],
      "execution_count": 3,
      "outputs": []
    },
    {
      "cell_type": "code",
      "metadata": {
        "colab": {
          "base_uri": "https://localhost:8080/"
        },
        "id": "7Nlvp09JOurO",
        "outputId": "79e4c726-24ea-4463-d68a-d3a114289f1a"
      },
      "source": [
        "# Sklearn tutorial\n",
        "\n",
        "centers = [[1, 1], [-1, -1], [1, -1]]\n",
        "n_clusters = len(centers)\n",
        "X, labels_true = make_blobs(n_samples=3000, centers=centers, cluster_std=0.7)\n",
        "\n",
        "print(type(X))"
      ],
      "execution_count": 17,
      "outputs": [
        {
          "output_type": "stream",
          "text": [
            "<class 'numpy.ndarray'>\n"
          ],
          "name": "stdout"
        }
      ]
    },
    {
      "cell_type": "code",
      "metadata": {
        "id": "-dTr2nIE1YZ5"
      },
      "source": [
        "# distance method\n",
        "\n",
        "def distance(p, q, mode:str = 'euc') -> float:\n",
        "  \"\"\"\n",
        "    Parameters\n",
        "    ----------\n",
        "      p = instance\n",
        "      q = centroid\n",
        "\n",
        "      mode = {\n",
        "        'ave': Average,\n",
        "        'euc': Euclidean,\n",
        "        'man': Manhattan\n",
        "      }\n",
        "    \n",
        "    Return\n",
        "    ----------\n",
        "    float\n",
        "      value of distance between p and q\n",
        "  \"\"\"\n",
        "  # init variables\n",
        "  soma = 0\n",
        "  n = 1\n",
        "  diff = 0\n",
        "  ret = 0\n",
        "\n",
        "  # forech \n",
        "  for index in range(len(p)):\n",
        "    for col in p:\n",
        "      p_val = p.iloc[index][col]\n",
        "      q_val = q[col]\n",
        "\n",
        "      # print(\"{} \\t\\t\\t {} \\t\\t\\t {} \\t\\t\\t {} \\t\\t\\t {}\".format(index, col, p_val, q_val, type(p_val)))\n",
        "      \n",
        "      if col != 'name' and (type(p_val) != str): \n",
        "        diff = float(p_val) - float(q_val)\n",
        "        if mode == 'man':\n",
        "          soma += abs(diff)\n",
        "        else:\n",
        "          soma += pow(diff, 2)\n",
        "    \n",
        "  if mode == 'man':\n",
        "    ret = soma\n",
        "  else:\n",
        "    if mode == 'ave':\n",
        "      n = 1 / len(p)\n",
        "    ret = math.sqrt(n * soma)\n",
        "      \n",
        "  return ret"
      ],
      "execution_count": 60,
      "outputs": []
    },
    {
      "cell_type": "code",
      "metadata": {
        "id": "qpBD25HRTjgw"
      },
      "source": [
        "# init random centroids method\n",
        "\n",
        "def init_centroids(instances, k_param:int) -> list:\n",
        "  \"\"\"\n",
        "    Parameters\n",
        "    ----------\n",
        "      instances = list of instances\n",
        "      k_param = number of centroids\n",
        "    \n",
        "    Return\n",
        "    ----------\n",
        "    list\n",
        "      k centroids\n",
        "  \"\"\" \n",
        "\n",
        "  centriods = []\n",
        "  \n",
        "  for i in range(k_param):\n",
        "    center = {}\n",
        "    center['name'] = i\n",
        "\n",
        "    # foreach column in instances\n",
        "    for key in instances:\n",
        "      min = instances[key].min()\n",
        "      max = instances[key].max()\n",
        "      \n",
        "      # if column is numeric\n",
        "      if type(min) == int or type(min) == float:\n",
        "        # create ramdom column value\n",
        "        center[key] = random.uniform(min, max)\n",
        "    \n",
        "    # append i centrid in list\n",
        "    centriods.append(center)\n",
        "  \n",
        "  return centriods\n"
      ],
      "execution_count": 5,
      "outputs": []
    },
    {
      "cell_type": "code",
      "metadata": {
        "id": "x6Hb1aHumqPq"
      },
      "source": [
        "# argmin distance centroid method\n",
        "\n",
        "def min_centroid(row, centriods:list, dist_mode:str) -> int:\n",
        "  dist = []\n",
        "\n",
        "  for center in centriods:\n",
        "    val = distance(row, center, dist_mode)\n",
        "    dist.append(val)\n",
        "    print(val)\n",
        "\n",
        "  return np.argmin(dist)"
      ],
      "execution_count": 27,
      "outputs": []
    },
    {
      "cell_type": "code",
      "metadata": {
        "id": "OTt0w5IQCLLE"
      },
      "source": [
        "# k means method\n",
        "\n",
        "def k_means(instances, k_param:int, dist_mode:str) -> list:\n",
        "  \"\"\"\n",
        "    Parameters\n",
        "    ----------\n",
        "      instances = list of instances\n",
        "      k_param = number of partitions\n",
        "      dist_mode = distance measure\n",
        "    \n",
        "    Return\n",
        "    ----------\n",
        "    list\n",
        "      k centroids results\n",
        "  \"\"\"\n",
        "\n",
        "  # definition\n",
        "  \"\"\"\n",
        "    init centroids\n",
        "\n",
        "    while had_update\n",
        "      for x instance\n",
        "        argmin distance_centroid\n",
        "        assoc instance centroid\n",
        "      \n",
        "      for y centroid\n",
        "        update_centroid\n",
        "\n",
        "    return centroid list\n",
        "\n",
        "  \"\"\"\n",
        "  had_update = True\n",
        "  centriods = init_centroids(instances, k_param)\n",
        "\n",
        "  while had_update:\n",
        "    for index, row in instances.items():\n",
        "      center = min_centroid(row, centroids)\n",
        "  \n",
        "  return []"
      ],
      "execution_count": 7,
      "outputs": []
    },
    {
      "cell_type": "code",
      "metadata": {
        "id": "DeEUHV3rvxkf"
      },
      "source": [
        "# plot dataframe 2D\n",
        "\n",
        "def plot_dataset(df, x, y, color='black'):\n",
        "  df.plot(kind='scatter',x=x,y=y,color=color, grid=True)\n",
        "  plt.show()"
      ],
      "execution_count": 32,
      "outputs": []
    },
    {
      "cell_type": "code",
      "metadata": {
        "colab": {
          "base_uri": "https://localhost:8080/",
          "height": 656
        },
        "id": "VPhwmpYgMn59",
        "outputId": "a76b37c6-e7cb-4cad-b2f0-4ec356a41824"
      },
      "source": [
        "# read dataset\n",
        "\n",
        "dataset = pd.read_csv('/content/drive/MyDrive/Colab Notebooks/dados/USArrests.csv', header=0)\n",
        "\n",
        "df = dataset\n",
        "df.rename( columns={'Unnamed: 0':'name'}, inplace=True )\n",
        "\n",
        "df = df[['name', 'Assault', 'Murder']]\n",
        "\n",
        "# first dataset rows\n",
        "print(df[:5])\n",
        "print('\\n' + '-'*30 + '\\n')\n",
        "\n",
        "# infos\n",
        "print(\"Dataset Infos\")\n",
        "print(df.describe())\n",
        "print('\\n' + '-'*30 + '\\n')\n",
        "\n",
        "# plot dataset\n",
        "plot_dataset(df, x='Murder', y='Assault', color='black')"
      ],
      "execution_count": 63,
      "outputs": [
        {
          "output_type": "stream",
          "text": [
            "         name  Assault  Murder\n",
            "0     Alabama      236    13.2\n",
            "1      Alaska      263    10.0\n",
            "2     Arizona      294     8.1\n",
            "3    Arkansas      190     8.8\n",
            "4  California      276     9.0\n",
            "\n",
            "------------------------------\n",
            "\n",
            "Dataset Infos\n",
            "          Assault    Murder\n",
            "count   50.000000  50.00000\n",
            "mean   170.760000   7.78800\n",
            "std     83.337661   4.35551\n",
            "min     45.000000   0.80000\n",
            "25%    109.000000   4.07500\n",
            "50%    159.000000   7.25000\n",
            "75%    249.000000  11.25000\n",
            "max    337.000000  17.40000\n",
            "\n",
            "------------------------------\n",
            "\n"
          ],
          "name": "stdout"
        },
        {
          "output_type": "display_data",
          "data": {
            "image/png": "[encoded data removed]",
            "text/plain": [
              "<Figure size 432x288 with 1 Axes>"
            ]
          },
          "metadata": {
            "tags": [],
            "needs_background": "light"
          }
        }
      ]
    },
    {
      "cell_type": "code",
      "metadata": {
        "colab": {
          "base_uri": "https://localhost:8080/",
          "height": 775
        },
        "id": "auKoA_fDE-Q4",
        "outputId": "d75452e0-a865-4bfd-da3b-6872dda06002"
      },
      "source": [
        "# TESTs\n",
        "\n",
        "# Test distance\n",
        "xi = pd.DataFrame([{'x': 0.50, 'y': 0.43}])\n",
        "xj = {'x': 1.00, 'y': 0.57}\n",
        "\n",
        "print(\"Test distance method:\")\n",
        "for mode in ['euc', 'ave', 'man']:\n",
        "  print(\"dist {} = {}\".format(mode, distance(xi, xj, mode)))\n",
        "print('\\n' + '-'*30 + '\\n')\n",
        "\n",
        "# Test init centroids\n",
        "print(\"Test random init centroids method:\")\n",
        "centriods = init_centroids(df, 3);\n",
        "print(centriods)\n",
        "print('\\n' + '-'*30 + '\\n')\n",
        "\n",
        "# Test min center\n",
        "print(\"Test min centroid:\")\n",
        "sample = df.sample(n=1)\n",
        "dfn = sample\n",
        "# plot_dataset(dfn, x='Murder', y='Assault', color='red')\n",
        "\n",
        "dfn = dfn.append(pd.DataFrame(centriods), ignore_index=True)\n",
        "\n",
        "\n",
        "print(dfn)\n",
        "print('\\n' + '-'*30 + '\\n')\n",
        "\n",
        "min = min_centroid(sample, centriods, 'euc')\n",
        "print(min)\n",
        "\n",
        "\n",
        "# plot color min center\n",
        "colors = ['r']\n",
        "\n",
        "for i in range(len(centriods)):\n",
        "  if i == min:\n",
        "    c = 'g'\n",
        "  else:\n",
        "    c = 'b'\n",
        "  colors.append(c)\n",
        "\n",
        "plot_dataset(dfn, x='Murder', y='Assault', color=colors)\n",
        "print('\\n' + '-'*30 + '\\n')"
      ],
      "execution_count": 70,
      "outputs": [
        {
          "output_type": "stream",
          "text": [
            "Test distance method:\n",
            "dist euc = 0.5192301994298868\n",
            "dist ave = 0.5192301994298868\n",
            "dist man = 0.6399999999999999\n",
            "\n",
            "------------------------------\n",
            "\n",
            "Test random init centroids method:\n",
            "[{'name': 0, 'Assault': 140.5143997627219, 'Murder': 9.402119518170634}, {'name': 1, 'Assault': 186.73385240894692, 'Murder': 17.194183753069318}, {'name': 2, 'Assault': 114.29735173433114, 'Murder': 6.474001205831534}]\n",
            "\n",
            "------------------------------\n",
            "\n",
            "Test min centroid:\n",
            "          name     Assault     Murder\n",
            "0  Mississippi  259.000000  16.100000\n",
            "1            0  140.514400   9.402120\n",
            "2            1  186.733852  17.194184\n",
            "3            2  114.297352   6.474001\n",
            "\n",
            "------------------------------\n",
            "\n",
            "118.67476170836387\n",
            "72.27443064969346\n",
            "145.0224681485018\n",
            "1\n"
          ],
          "name": "stdout"
        },
        {
          "output_type": "display_data",
          "data": {
            "image/png": "[encoded data removed]",
            "text/plain": [
              "<Figure size 432x288 with 1 Axes>"
            ]
          },
          "metadata": {
            "tags": [],
            "needs_background": "light"
          }
        },
        {
          "output_type": "stream",
          "text": [
            "\n",
            "------------------------------\n",
            "\n"
          ],
          "name": "stdout"
        }
      ]
    }
  ]
}