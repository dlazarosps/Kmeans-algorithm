{
  "nbformat": 4,
  "nbformat_minor": 0,
  "metadata": {
    "colab": {
      "name": "kmeans.ipynb",
      "provenance": [],
      "collapsed_sections": [],
      "authorship_tag": "ABX9TyOa12fnXZIkLpdBJ8MBJhVx"
    },
    "kernelspec": {
      "name": "python3",
      "display_name": "Python 3"
    },
    "language_info": {
      "name": "python"
    }
  },
  "cells": [
    {
      "cell_type": "code",
      "metadata": {
        "id": "xeydPYk8yFU8"
      },
      "source": [
        "# Imports\n",
        "\n",
        "import math\n",
        "import numpy as np\n",
        "import pandas as pd\n",
        "import random\n",
        "\n",
        "from matplotlib import pyplot as plt\n"
      ],
      "execution_count": 75,
      "outputs": []
    },
    {
      "cell_type": "code",
      "metadata": {
        "colab": {
          "base_uri": "https://localhost:8080/"
        },
        "id": "ufztV7vcMMsT",
        "outputId": "40d08de0-1e64-4f91-f763-a3b1d98d09b6"
      },
      "source": [
        "# load datasets from drive\n",
        "\n",
        "from google.colab import drive\n",
        "drive.mount('/content/drive')\n"
      ],
      "execution_count": 76,
      "outputs": [
        {
          "output_type": "stream",
          "text": [
            "Drive already mounted at /content/drive; to attempt to forcibly remount, call drive.mount(\"/content/drive\", force_remount=True).\n"
          ],
          "name": "stdout"
        }
      ]
    },
    {
      "cell_type": "code",
      "metadata": {
        "id": "-dTr2nIE1YZ5"
      },
      "source": [
        "# distance method\n",
        "\n",
        "def distance(instance, centroid, mode:str = 'euc') -> float:\n",
        "  \"\"\"\n",
        "    Parameters\n",
        "    ----------\n",
        "      instance\n",
        "      centroid\n",
        "\n",
        "      mode = {\n",
        "        'ave': Average,\n",
        "        'euc': Euclidean,\n",
        "        'man': Manhattan\n",
        "      }\n",
        "    \n",
        "    Return\n",
        "    ----------\n",
        "    float\n",
        "      value of distance between p and q\n",
        "  \"\"\"\n",
        "  # init variables\n",
        "  soma = 0\n",
        "  n = 1\n",
        "  diff = 0\n",
        "  ret = 0\n",
        "\n",
        "  # \"\"\"\n",
        "  # forech \n",
        "  for index in range(len(instance)):\n",
        "    for col in instance:\n",
        "      # print(\"{} \\t\\t\\t {} \".format(index, col))\n",
        "      instance_val = instance.iloc[index][col]\n",
        "      centroid_val = centroid.get(col, None)\n",
        "      # print(\"{} \\t\\t\\t {} \\t\\t\\t {} \\t\\t\\t {} \\t\\t\\t {}\".format(index, col, instance_val, centroid_val, type(instance_val)))\n",
        "\n",
        "      if col != 'name' and (type(instance_val) != str): \n",
        "        \n",
        "        diff = float(instance_val) - float(centroid_val)\n",
        "        if mode == 'man':\n",
        "          soma += abs(diff)\n",
        "        else:\n",
        "          soma += pow(diff, 2)\n",
        "    \n",
        "  if mode == 'man':\n",
        "    ret = soma\n",
        "  else:\n",
        "    if mode == 'ave':\n",
        "      n = 1 / len(instance)\n",
        "    ret = math.sqrt(n * soma)\n",
        "  # \"\"\" \n",
        "  return ret\n"
      ],
      "execution_count": 79,
      "outputs": []
    },
    {
      "cell_type": "code",
      "metadata": {
        "id": "qpBD25HRTjgw"
      },
      "source": [
        "# init random centroids method\n",
        "\n",
        "def init_centroids(instances, k_param:int) -> list:\n",
        "  \"\"\"\n",
        "    Parameters\n",
        "    ----------\n",
        "      instances = list of instances\n",
        "      k_param = number of centroids\n",
        "    \n",
        "    Return\n",
        "    ----------\n",
        "    list\n",
        "      k centroids\n",
        "  \"\"\" \n",
        "\n",
        "  centroids = []\n",
        "\n",
        "  # each K\n",
        "  for i in range(k_param):\n",
        "    center = {}\n",
        "    center['name'] =str(i)\n",
        "\n",
        "    # foreach column in instances\n",
        "    for col in instances:\n",
        "      min = instances[col].min()\n",
        "      max = instances[col].max()\n",
        "      \n",
        "      # if column is numeric\n",
        "      if type(min) != str:\n",
        "        # create ramdom column value\n",
        "        center[col] = random.uniform(min, max)\n",
        "    \n",
        "    # append i centrid in list\n",
        "    centroids.append(center)\n",
        "  \n",
        "  return centroids\n"
      ],
      "execution_count": 80,
      "outputs": []
    },
    {
      "cell_type": "code",
      "metadata": {
        "id": "x6Hb1aHumqPq"
      },
      "source": [
        "# argmin distance centroid method\n",
        "\n",
        "def min_centroid(instance, centroids:list, dist_mode:str) -> int:\n",
        "  dist = []\n",
        "\n",
        "  for center in centroids:\n",
        "    val = distance(instance, center, dist_mode)\n",
        "    dist.append(val)\n",
        "    # print(val)\n",
        "\n",
        "  return np.argmin(dist)\n"
      ],
      "execution_count": 81,
      "outputs": []
    },
    {
      "cell_type": "code",
      "metadata": {
        "id": "-6vLRFHJcDqt"
      },
      "source": [
        "# check diff between two list of dicts\n",
        "\n",
        "def is_updated(old_list, new_list):\n",
        "  # foreach dict in old_list\n",
        "  for d in old_list:\n",
        "    # if dict not in new_list\n",
        "    if d not in new_list:\n",
        "      # return positive and new_list\n",
        "      return True, new_list\n",
        "\n",
        "  # return negative and old_list\n",
        "  return False, old_list\n",
        "  "
      ],
      "execution_count": 82,
      "outputs": []
    },
    {
      "cell_type": "code",
      "metadata": {
        "id": "LzHSUdxKdxwW"
      },
      "source": [
        "# update centroid values method\n",
        "\n",
        "def update_centroid(centroid, instances):\n",
        "  centroid_instances = instances.loc[instances['centroid'] == centroid['name']]\n",
        "\n",
        "  # print(centroid_instances.describe())\n",
        "  # print_line()\n",
        "\n",
        "  for col in centroid_instances:\n",
        "    if col not in ['name', 'centroid']:\n",
        "      mean = centroid_instances[col].mean()\n",
        "      if type(mean) != str:\n",
        "        centroid[col] = mean\n",
        "\n",
        "  return centroid\n"
      ],
      "execution_count": 137,
      "outputs": []
    },
    {
      "cell_type": "code",
      "metadata": {
        "id": "OTt0w5IQCLLE"
      },
      "source": [
        "# k means method\n",
        "\n",
        "def k_means(instances, k_param:int, dist_mode:str, loop_limit=1000) -> list:\n",
        "  \"\"\"\n",
        "    Parameters\n",
        "    ----------\n",
        "      instances = list of instances\n",
        "      k_param = number of partitions\n",
        "      dist_mode = distance measure\n",
        "    \n",
        "    Return\n",
        "    ----------\n",
        "    list\n",
        "      k centroids results\n",
        "  \"\"\"\n",
        "\n",
        "  had_update = True\n",
        "  count = 0\n",
        "\n",
        "  centroids = init_centroids(instances, k_param)\n",
        "\n",
        "  # print(instances)\n",
        "  # print_line()\n",
        "  # print(centroids)\n",
        "  # print_line()\n",
        "\n",
        "  plot_dataset(pd.DataFrame(centroids), x='Murder', y='Assault', title='initial centroids')\n",
        "\n",
        "  while had_update and count < loop_limit:\n",
        "    for i in range(len(instances)):\n",
        "      center_index = min_centroid(instances.iloc[[i]], centroids, dist_mode)\n",
        "      # instances.iloc[i]['centroid'] = str(center_index)\n",
        "      instances.at[i, 'centroid'] = str(center_index)\n",
        "\n",
        "    # updated_centroids = centroids\n",
        "    updated_centroids = []\n",
        "    for center in centroids:\n",
        "      new_center = update_centroid(center, instances)\n",
        "      updated_centroids.append(new_center)\n",
        "    \n",
        "    had_update, centroids = is_updated(centroids, updated_centroids)\n",
        "    count += 1\n",
        "\n",
        "  # print_line()\n",
        "  # print(instances)\n",
        "  # print_line()\n",
        "  # print(centroids)\n",
        "  # print_line()\n",
        "\n",
        "  print(count)\n",
        "  print_line()\n",
        "\n",
        "  return centroids\n"
      ],
      "execution_count": 185,
      "outputs": []
    },
    {
      "cell_type": "code",
      "metadata": {
        "id": "DeEUHV3rvxkf"
      },
      "source": [
        "# plot dataframe 2D\n",
        "\n",
        "def plot_dataset(df, x, y, color='black', title=''):\n",
        "  df.plot(kind='scatter',x=x,y=y,color=color, grid=True, title=title)\n",
        "  plt.show()\n",
        "\n",
        "\n",
        "def print_line():\n",
        "  print('\\n' + '-'*30 + '\\n')  "
      ],
      "execution_count": 187,
      "outputs": []
    },
    {
      "cell_type": "code",
      "metadata": {
        "colab": {
          "base_uri": "https://localhost:8080/",
          "height": 669
        },
        "id": "VPhwmpYgMn59",
        "outputId": "1e846860-2ff9-46c7-ade1-0ff4c05b537b"
      },
      "source": [
        "# read dataset\n",
        "\n",
        "dataset = pd.read_csv('/content/drive/MyDrive/Colab Notebooks/dados/USArrests.csv', header=0)\n",
        "\n",
        "df = dataset\n",
        "df.rename( columns={'Unnamed: 0':'name'}, inplace=True)\n",
        "\n",
        "df = df[['name', 'Assault', 'Murder']]\n",
        "\n",
        "# infos\n",
        "print(\"Dataset Infos\")\n",
        "print(df.describe())\n",
        "print_line()\n",
        "\n",
        "# plot dataset\n",
        "plot_dataset(df, x='Murder', y='Assault', color='black', title='Dataset')\n",
        "\n",
        "\n",
        "# add column\n",
        "df.insert(0,'centroid', 'empty')\n",
        "\n",
        "# first dataset rows\n",
        "print(df[:5])\n",
        "print_line()"
      ],
      "execution_count": 179,
      "outputs": [
        {
          "output_type": "stream",
          "text": [
            "Dataset Infos\n",
            "          Assault    Murder\n",
            "count   50.000000  50.00000\n",
            "mean   170.760000   7.78800\n",
            "std     83.337661   4.35551\n",
            "min     45.000000   0.80000\n",
            "25%    109.000000   4.07500\n",
            "50%    159.000000   7.25000\n",
            "75%    249.000000  11.25000\n",
            "max    337.000000  17.40000\n",
            "\n",
            "------------------------------\n",
            "\n"
          ],
          "name": "stdout"
        },
        {
          "output_type": "display_data",
          "data": {
            "image/png": "[encoded data removed]",
            "text/plain": [
              "<Figure size 432x288 with 1 Axes>"
            ]
          },
          "metadata": {
            "tags": [],
            "needs_background": "light"
          }
        },
        {
          "output_type": "stream",
          "text": [
            "  centroid        name  Assault  Murder\n",
            "0    empty     Alabama      236    13.2\n",
            "1    empty      Alaska      263    10.0\n",
            "2    empty     Arizona      294     8.1\n",
            "3    empty    Arkansas      190     8.8\n",
            "4    empty  California      276     9.0\n",
            "\n",
            "------------------------------\n",
            "\n"
          ],
          "name": "stdout"
        }
      ]
    },
    {
      "cell_type": "code",
      "metadata": {
        "colab": {
          "base_uri": "https://localhost:8080/",
          "height": 791
        },
        "id": "auKoA_fDE-Q4",
        "outputId": "0538362e-a135-458a-8b5d-3c5a72c49957"
      },
      "source": [
        "# TESTs\n",
        "k_param = 6\n",
        "\n",
        "# \"\"\"\n",
        "# Test distance\n",
        "xi = pd.DataFrame([{'x': 0.50, 'y': 0.43}])\n",
        "xj = {'x': 1.00, 'y': 0.57}\n",
        "\n",
        "print(\"Test distance method:\")\n",
        "for mode in ['euc', 'ave', 'man']:\n",
        "  print(\"dist {} = {}\".format(mode, distance(xi, xj, mode)))\n",
        "print_line()\n",
        "\n",
        "# Test init centroids\n",
        "print(\"Test random init centroids method:\")\n",
        "centroids = init_centroids(df, k_param);\n",
        "print(centroids)\n",
        "print_line()\n",
        "\n",
        "# Test min center\n",
        "print(\"Test min centroid:\")\n",
        "sample = df.sample(n=1)\n",
        "dfn = sample\n",
        "# plot_dataset(dfn, x='Murder', y='Assault', color='red')\n",
        "\n",
        "dfn = dfn.append(pd.DataFrame(centroids), ignore_index=True)\n",
        "\n",
        "\n",
        "print(dfn)\n",
        "print_line()\n",
        "\n",
        "min = min_centroid(sample, centroids, 'euc')\n",
        "print(min)\n",
        "\n",
        "\n",
        "# plot color min center\n",
        "colors = ['r']\n",
        "\n",
        "for i in range(len(centroids)):\n",
        "  if i == min:\n",
        "    c = 'g'\n",
        "  else:\n",
        "    c = 'b'\n",
        "  colors.append(c)\n",
        "\n",
        "plot_dataset(dfn, x='Murder', y='Assault', color=colors, title='Example Centroids')\n",
        "print_line()\n",
        "\n",
        "# \"\"\""
      ],
      "execution_count": 183,
      "outputs": [
        {
          "output_type": "stream",
          "text": [
            "Test distance method:\n",
            "dist euc = 0.5192301994298868\n",
            "dist ave = 0.5192301994298868\n",
            "dist man = 0.6399999999999999\n",
            "\n",
            "------------------------------\n",
            "\n",
            "Test random init centroids method:\n",
            "[{'name': '0', 'Assault': 304.275623617447, 'Murder': 5.295629793642971}, {'name': '1', 'Assault': 240.74589842199123, 'Murder': 5.9811452991229}, {'name': '2', 'Assault': 225.41114963660544, 'Murder': 12.299520307974616}, {'name': '3', 'Assault': 137.32879883122916, 'Murder': 2.114849965327198}, {'name': '4', 'Assault': 284.71993700939095, 'Murder': 7.708412873061411}, {'name': '5', 'Assault': 133.8934474861996, 'Murder': 14.819821476002055}]\n",
            "\n",
            "------------------------------\n",
            "\n",
            "Test min centroid:\n",
            "  centroid  name     Assault     Murder\n",
            "0    empty  Utah  120.000000   3.200000\n",
            "1      NaN     0  304.275624   5.295630\n",
            "2      NaN     1  240.745898   5.981145\n",
            "3      NaN     2  225.411150  12.299520\n",
            "4      NaN     3  137.328799   2.114850\n",
            "5      NaN     4  284.719937   7.708413\n",
            "6      NaN     5  133.893447  14.819821\n",
            "\n",
            "------------------------------\n",
            "\n",
            "3\n"
          ],
          "name": "stdout"
        },
        {
          "output_type": "display_data",
          "data": {
            "image/png": "[encoded data removed]",
            "text/plain": [
              "<Figure size 432x288 with 1 Axes>"
            ]
          },
          "metadata": {
            "tags": [],
            "needs_background": "light"
          }
        },
        {
          "output_type": "stream",
          "text": [
            "\n",
            "------------------------------\n",
            "\n"
          ],
          "name": "stdout"
        }
      ]
    },
    {
      "cell_type": "code",
      "metadata": {
        "colab": {
          "base_uri": "https://localhost:8080/",
          "height": 777
        },
        "id": "NF3XQjqSJqM9",
        "outputId": "3ad6774b-294d-4cec-fd93-733c06351a62"
      },
      "source": [
        "# Test kmeans\n",
        "k_param = 3\n",
        "sample = df.sample(n=len(df))\n",
        "sample = sample.reset_index(drop=True)\n",
        "centroids = k_means(sample, k_param, 'euc', 1000)\n",
        "\n",
        "print(\"best centroids:\")\n",
        "print(centroids)\n",
        "print_line()\n",
        "\n",
        "# plot k-means\n",
        "dfn = pd.DataFrame(centroids)\n",
        "dfn = dfn.append(sample, ignore_index=True)\n",
        "\n",
        "colors = ['black'] * k_param\n",
        "\n",
        "for i in range(len(sample)):\n",
        "  c = sample.iloc[i]['centroid']\n",
        "  colors.append('C'+c)\n",
        "\n",
        "plot_dataset(dfn, x='Murder', y='Assault', color=colors, title='Results K-means')\n",
        "print_line()\n"
      ],
      "execution_count": 194,
      "outputs": [
        {
          "output_type": "display_data",
          "data": {
            "image/png": "[encoded data removed]",
            "text/plain": [
              "<Figure size 432x288 with 1 Axes>"
            ]
          },
          "metadata": {
            "tags": [],
            "needs_background": "light"
          }
        },
        {
          "output_type": "stream",
          "text": [
            "1\n",
            "\n",
            "------------------------------\n",
            "\n",
            "best centroids:\n",
            "[{'name': '0', 'Assault': 87.55, 'Murder': 4.27}, {'name': '1', 'Assault': 173.28571428571428, 'Murder': 8.214285714285714}, {'name': '2', 'Assault': 272.5625, 'Murder': 11.8125}]\n",
            "\n",
            "------------------------------\n",
            "\n"
          ],
          "name": "stdout"
        },
        {
          "output_type": "display_data",
          "data": {
            "image/png": "[encoded data removed]",
            "text/plain": [
              "<Figure size 432x288 with 1 Axes>"
            ]
          },
          "metadata": {
            "tags": [],
            "needs_background": "light"
          }
        },
        {
          "output_type": "stream",
          "text": [
            "\n",
            "------------------------------\n",
            "\n"
          ],
          "name": "stdout"
        }
      ]
    }
  ]
}